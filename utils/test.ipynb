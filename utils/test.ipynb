{
 "cells": [
  {
   "cell_type": "code",
   "execution_count": 10,
   "metadata": {},
   "outputs": [
    {
     "data": {
      "text/plain": [
       "'\\\\{0\\\\}'"
      ]
     },
     "execution_count": 10,
     "metadata": {},
     "output_type": "execute_result"
    }
   ],
   "source": [
    "import json\n",
    "import re\n",
    "\n",
    "def transform_answer(answer):\n",
    "    pattern = r\"^\\s*\\{\\s*(\\d+)\\s*\\}\\s*$\"\n",
    "    match = re.match(pattern, answer)\n",
    "    if match:\n",
    "        integer_value = match.group(1)\n",
    "        return f\"{{'answer': {integer_value}}}\"\n",
    "    else:\n",
    "        return answer\n",
    "def extract_json_from_answer(answer: str):\n",
    "    start_index = end_index = -1\n",
    "    if '```json' in answer:\n",
    "        start_index = answer.find(\"```json\") + 7\n",
    "        end_index = answer.rfind(\"```\") - 1\n",
    "        answer = answer[start_index:end_index+1]\n",
    "    if '{' in answer:\n",
    "        start_index = answer.find(\"{\")\n",
    "    else:\n",
    "        start_index = answer.find(\"[\")\n",
    "    if '}' in answer:\n",
    "        end_index = answer.rfind(\"}\")\n",
    "    else:\n",
    "        end_index = answer.rfind(\"]\")\n",
    "    if start_index != -1 and end_index != -1:\n",
    "        answer = answer[start_index:end_index+1].replace(\"\\_\", \"_\")\n",
    "    if not answer.startswith('{') and not answer.startswith('['):\n",
    "        answer = '{' + answer + '}'\n",
    "    answer = transform_answer(answer)\n",
    "    return answer\n",
    "\n",
    "tt = \"\"\"```json\n",
    "0\n",
    "```\"\"\"\n",
    "extract_json_from_answer(tt)\n",
    "transform_answer(\"{0}\")"
   ]
  },
  {
   "cell_type": "code",
   "execution_count": 7,
   "metadata": {},
   "outputs": [
    {
     "ename": "TypeError",
     "evalue": "sub() missing 1 required positional argument: 'string'",
     "output_type": "error",
     "traceback": [
      "\u001b[1;31m---------------------------------------------------------------------------\u001b[0m",
      "\u001b[1;31mTypeError\u001b[0m                                 Traceback (most recent call last)",
      "Cell \u001b[1;32mIn[7], line 1\u001b[0m\n\u001b[1;32m----> 1\u001b[0m json\u001b[38;5;241m.\u001b[39mloads(\u001b[43mre\u001b[49m\u001b[38;5;241;43m.\u001b[39;49m\u001b[43msub\u001b[49m\u001b[43m(\u001b[49m\u001b[38;5;124;43mr\u001b[39;49m\u001b[38;5;124;43m'\u001b[39;49m\u001b[38;5;124;43m\\\u001b[39;49m\u001b[38;5;124;43m/\u001b[39;49m\u001b[38;5;124;43m\\\u001b[39;49m\u001b[38;5;124;43m/.*$\u001b[39;49m\u001b[38;5;124;43m'\u001b[39;49m\u001b[43m,\u001b[49m\u001b[43m \u001b[49m\u001b[38;5;124;43m\"\u001b[39;49m\u001b[38;5;124;43m'\u001b[39;49m\u001b[38;5;124;43manswer\u001b[39;49m\u001b[38;5;124;43m'\u001b[39;49m\u001b[38;5;124;43m: 0\u001b[39;49m\u001b[38;5;124;43m\"\u001b[39;49m\u001b[43m,\u001b[49m\u001b[43m \u001b[49m\u001b[43mflags\u001b[49m\u001b[38;5;241;43m=\u001b[39;49m\u001b[43mre\u001b[49m\u001b[38;5;241;43m.\u001b[39;49m\u001b[43mMULTILINE\u001b[49m\u001b[43m)\u001b[49m)\n",
      "\u001b[1;31mTypeError\u001b[0m: sub() missing 1 required positional argument: 'string'"
     ]
    }
   ],
   "source": [
    "json.loads(re.sub(r'\\/\\/.*$', \"'answer': 0\", flags=re.MULTILINE))"
   ]
  }
 ],
 "metadata": {
  "kernelspec": {
   "display_name": "NetworkSearch",
   "language": "python",
   "name": "python3"
  },
  "language_info": {
   "codemirror_mode": {
    "name": "ipython",
    "version": 3
   },
   "file_extension": ".py",
   "mimetype": "text/x-python",
   "name": "python",
   "nbconvert_exporter": "python",
   "pygments_lexer": "ipython3",
   "version": "3.9.19"
  }
 },
 "nbformat": 4,
 "nbformat_minor": 2
}
